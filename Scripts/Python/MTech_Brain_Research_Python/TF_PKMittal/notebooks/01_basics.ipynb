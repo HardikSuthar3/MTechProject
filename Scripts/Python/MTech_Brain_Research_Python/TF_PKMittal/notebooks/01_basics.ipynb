{
 "cells": [
  {
   "cell_type": "code",
   "execution_count": 1,
   "metadata": {
    "collapsed": true
   },
   "outputs": [
    {
     "data": {
      "text/plain": [
       "'Summary of tensorflow basics.\\n\\nParag K. Mital, Jan 2016.'"
      ]
     },
     "execution_count": 1,
     "metadata": {},
     "output_type": "execute_result"
    }
   ],
   "source": [
    "\"\"\"Summary of tensorflow basics.\n",
    "\n",
    "Parag K. Mital, Jan 2016.\"\"\""
   ]
  },
  {
   "cell_type": "code",
   "execution_count": 2,
   "metadata": {
    "collapsed": true
   },
   "outputs": [],
   "source": [
    "# %% Import tensorflow and pyplot\n",
    "import tensorflow as tf\n",
    "import matplotlib.pyplot as plt"
   ]
  },
  {
   "cell_type": "code",
   "execution_count": 3,
   "metadata": {
    "collapsed": true
   },
   "outputs": [],
   "source": [
    "# %% tf.Graph represents a collection of tf.Operations\n",
    "# You can create operations by writing out equations.\n",
    "# By default, there is a graph: tf.get_default_graph()\n",
    "# and any new operations are added to this graph.\n",
    "# The result of a tf.Operation is a tf.Tensor, which holds\n",
    "# the values."
   ]
  },
  {
   "cell_type": "code",
   "execution_count": 4,
   "metadata": {
    "collapsed": true
   },
   "outputs": [],
   "source": [
    "# %% First a tf.Tensor\n",
    "n_values = 32\n",
    "x = tf.linspace(-3.0, 3.0, n_values)"
   ]
  },
  {
   "cell_type": "code",
   "execution_count": 6,
   "metadata": {
    "collapsed": true
   },
   "outputs": [
    {
     "name": "stdout",
     "output_type": "stream",
     "text": [
      "[-3.         -2.80645156 -2.61290312 -2.41935492 -2.22580647 -2.03225803\n -1.83870971 -1.64516139 -1.45161295 -1.25806451 -1.06451619 -0.87096786\n -0.67741942 -0.48387098 -0.29032278 -0.09677434  0.0967741   0.29032254\n  0.48387098  0.67741919  0.87096763  1.06451607  1.25806427  1.45161295\n  1.64516115  1.83870935  2.03225803  2.22580624  2.41935444  2.61290312\n  2.80645132  3.        ]\n"
     ]
    }
   ],
   "source": [
    "# %% Construct a tf.Session to execute the graph.\n",
    "sess = tf.Session()\n",
    "result = sess.run(x)\n",
    "print(result)"
   ]
  },
  {
   "cell_type": "code",
   "execution_count": 7,
   "metadata": {
    "collapsed": true
   },
   "outputs": [
    {
     "data": {
      "text/plain": [
       "array([-3.        , -2.80645156, -2.61290312, -2.41935492, -2.22580647,\n       -2.03225803, -1.83870971, -1.64516139, -1.45161295, -1.25806451,\n       -1.06451619, -0.87096786, -0.67741942, -0.48387098, -0.29032278,\n       -0.09677434,  0.0967741 ,  0.29032254,  0.48387098,  0.67741919,\n        0.87096763,  1.06451607,  1.25806427,  1.45161295,  1.64516115,\n        1.83870935,  2.03225803,  2.22580624,  2.41935444,  2.61290312,\n        2.80645132,  3.        ], dtype=float32)"
      ]
     },
     "execution_count": 7,
     "metadata": {},
     "output_type": "execute_result"
    }
   ],
   "source": [
    "# %% Alternatively pass a session to the eval fn:\n",
    "x.eval(session=sess)\n",
    "# x.eval() does not work, as it requires a session!"
   ]
  },
  {
   "cell_type": "code",
   "execution_count": 8,
   "metadata": {
    "collapsed": true
   },
   "outputs": [],
   "source": [
    "# %% We can setup an interactive session if we don't\n",
    "# want to keep passing the session around:\n",
    "sess.close()\n",
    "sess = tf.InteractiveSession()"
   ]
  },
  {
   "cell_type": "code",
   "execution_count": 9,
   "metadata": {
    "collapsed": true
   },
   "outputs": [
    {
     "data": {
      "text/plain": [
       "array([-3.        , -2.80645156, -2.61290312, -2.41935492, -2.22580647,\n       -2.03225803, -1.83870971, -1.64516139, -1.45161295, -1.25806451,\n       -1.06451619, -0.87096786, -0.67741942, -0.48387098, -0.29032278,\n       -0.09677434,  0.0967741 ,  0.29032254,  0.48387098,  0.67741919,\n        0.87096763,  1.06451607,  1.25806427,  1.45161295,  1.64516115,\n        1.83870935,  2.03225803,  2.22580624,  2.41935444,  2.61290312,\n        2.80645132,  3.        ], dtype=float32)"
      ]
     },
     "execution_count": 9,
     "metadata": {},
     "output_type": "execute_result"
    }
   ],
   "source": [
    "# %% Now this will work!\n",
    "x.eval()"
   ]
  },
  {
   "cell_type": "code",
   "execution_count": 12,
   "metadata": {
    "collapsed": true
   },
   "outputs": [],
   "source": [
    "# %% Now a tf.Operation\n",
    "# We'll use our values from [-3, 3] to create a Gaussian Distribution\n",
    "sigma = 1.0\n",
    "mean = 0.0\n",
    "z = (tf.exp(tf.neg(tf.pow(x - mean, 2.0) /\n",
    "                   (2.0 * tf.pow(sigma, 2.0)))) *\n",
    "     (1.0 / (sigma * tf.sqrt(2.0 * 3.1415))))"
   ]
  },
  {
   "cell_type": "code",
   "execution_count": 13,
   "metadata": {
    "collapsed": true
   },
   "outputs": [],
   "source": [
    "# %% By default, new operations are added to the default Graph\n",
    "assert z.graph is tf.get_default_graph()"
   ]
  },
  {
   "cell_type": "code",
   "execution_count": 15,
   "metadata": {
    "collapsed": true
   },
   "outputs": [
    {
     "data": {
      "image/png": "[encoded data removed]",
      "text/plain": [
       "<matplotlib.figure.Figure at 0x7f8bd415a1d0>"
      ]
     },
     "metadata": {},
     "output_type": "display_data"
    }
   ],
   "source": [
    "# %% Execute the graph and plot the result\n",
    "plt.plot(z.eval())\n",
    "plt.show()"
   ]
  },
  {
   "cell_type": "code",
   "execution_count": 16,
   "metadata": {
    "collapsed": true
   },
   "outputs": [
    {
     "name": "stdout",
     "output_type": "stream",
     "text": [
      "(32,)\n"
     ]
    }
   ],
   "source": [
    "# %% We can find out the shape of a tensor like so:\n",
    "print(z.get_shape())"
   ]
  },
  {
   "cell_type": "code",
   "execution_count": 17,
   "metadata": {
    "collapsed": true
   },
   "outputs": [
    {
     "name": "stdout",
     "output_type": "stream",
     "text": [
      "[32]\n"
     ]
    }
   ],
   "source": [
    "# %% Or in a more friendly format\n",
    "print(z.get_shape().as_list())"
   ]
  },
  {
   "cell_type": "code",
   "execution_count": 18,
   "metadata": {
    "collapsed": true
   },
   "outputs": [
    {
     "name": "stdout",
     "output_type": "stream",
     "text": [
      "[32]\n"
     ]
    }
   ],
   "source": [
    "# %% Sometimes we may not know the shape of a tensor\n",
    "# until it is computed in the graph.  In that case\n",
    "# we should use the tf.shape fn, which will return a\n",
    "# Tensor which can be eval'ed, rather than a discrete\n",
    "# value of tf.Dimension\n",
    "print(tf.shape(z).eval())"
   ]
  },
  {
   "cell_type": "code",
   "execution_count": 19,
   "metadata": {
    "collapsed": true
   },
   "outputs": [
    {
     "name": "stdout",
     "output_type": "stream",
     "text": [
      "[[32]\n [32]\n [ 3]\n [ 4]]\n"
     ]
    }
   ],
   "source": [
    "# %% We can combine tensors like so:\n",
    "print(tf.pack([tf.shape(z), tf.shape(z), [3], [4]]).eval())"
   ]
  },
  {
   "cell_type": "code",
   "execution_count": 20,
   "metadata": {
    "collapsed": true
   },
   "outputs": [],
   "source": [
    "# %% Let's multiply the two to get a 2d gaussian\n",
    "z_2d = tf.matmul(tf.reshape(z, [n_values, 1]), tf.reshape(z, [1, n_values]))"
   ]
  },
  {
   "cell_type": "code",
   "execution_count": 22,
   "metadata": {
    "collapsed": true
   },
   "outputs": [
    {
     "data": {
      "image/png": "[encoded data removed]",
      "text/plain": [
       "<matplotlib.figure.Figure at 0x7f8b940b8ba8>"
      ]
     },
     "metadata": {},
     "output_type": "display_data"
    }
   ],
   "source": [
    "# %% Execute the graph and store the value that `out` represents in `result`.\n",
    "plt.imshow(z_2d.eval())\n",
    "plt.show()"
   ]
  },
  {
   "cell_type": "code",
   "execution_count": 23,
   "metadata": {
    "collapsed": true
   },
   "outputs": [
    {
     "data": {
      "text/plain": [
       "<matplotlib.image.AxesImage at 0x7f8b8002ac88>"
      ]
     },
     "execution_count": 23,
     "metadata": {},
     "output_type": "execute_result"
    }
   ],
   "source": [
    "# %% For fun let's create a gabor patch:\n",
    "x = tf.reshape(tf.sin(tf.linspace(-3.0, 3.0, n_values)), [n_values, 1])\n",
    "y = tf.reshape(tf.ones_like(x), [1, n_values])\n",
    "z = tf.mul(tf.matmul(x, y), z_2d)\n",
    "plt.imshow(z.eval())"
   ]
  },
  {
   "cell_type": "code",
   "execution_count": 24,
   "metadata": {
    "collapsed": true
   },
   "outputs": [
    {
     "name": "stdout",
     "output_type": "stream",
     "text": [
      "['LinSpace/start', 'LinSpace/stop', 'LinSpace/num', 'LinSpace', 'sub/y', 'sub', 'Pow/y', 'Pow', 'Pow_1/x', 'Pow_1/y', 'Pow_1', 'mul/x', 'mul', 'truediv', 'Neg', 'Exp', 'Sqrt/x', 'Sqrt', 'mul_1/x', 'mul_1', 'truediv_1/x', 'truediv_1', 'mul_2', 'Shape', 'Shape_1', 'Shape_2', 'pack/2_1', 'pack/3_1', 'pack', 'Reshape/shape', 'Reshape', 'Reshape_1/shape', 'Reshape_1', 'MatMul', 'LinSpace_1/start', 'LinSpace_1/stop', 'LinSpace_1/num', 'LinSpace_1', 'Sin', 'Reshape_2/shape', 'Reshape_2', 'ones_like/Shape', 'ones_like/Const', 'ones_like', 'Reshape_3/shape', 'Reshape_3', 'MatMul_1', 'Mul']\n"
     ]
    }
   ],
   "source": [
    "# %% We can also list all the operations of a graph:\n",
    "ops = tf.get_default_graph().get_operations()\n",
    "print([op.name for op in ops])"
   ]
  },
  {
   "cell_type": "code",
   "execution_count": 25,
   "metadata": {
    "collapsed": true
   },
   "outputs": [],
   "source": [
    "# %% Lets try creating a generic function for computing the same thing:\n",
    "def gabor(n_values=32, sigma=1.0, mean=0.0):\n",
    "    x = tf.linspace(-3.0, 3.0, n_values)\n",
    "    z = (tf.exp(tf.neg(tf.pow(x - mean, 2.0) /\n",
    "                       (2.0 * tf.pow(sigma, 2.0)))) *\n",
    "         (1.0 / (sigma * tf.sqrt(2.0 * 3.1415))))\n",
    "    gauss_kernel = tf.matmul(\n",
    "        tf.reshape(z, [n_values, 1]), tf.reshape(z, [1, n_values]))\n",
    "    x = tf.reshape(tf.sin(tf.linspace(-3.0, 3.0, n_values)), [n_values, 1])\n",
    "    y = tf.reshape(tf.ones_like(x), [1, n_values])\n",
    "    gabor_kernel = tf.mul(tf.matmul(x, y), gauss_kernel)\n",
    "    return gabor_kernel"
   ]
  },
  {
   "cell_type": "code",
   "execution_count": 26,
   "metadata": {
    "collapsed": true
   },
   "outputs": [
    {
     "data": {
      "text/plain": [
       "<matplotlib.image.AxesImage at 0x7f8b800f1dd8>"
      ]
     },
     "execution_count": 26,
     "metadata": {},
     "output_type": "execute_result"
    }
   ],
   "source": [
    "# %% Confirm this does something:\n",
    "plt.imshow(gabor().eval())"
   ]
  },
  {
   "cell_type": "code",
   "execution_count": 27,
   "metadata": {
    "collapsed": true
   },
   "outputs": [],
   "source": [
    "# %% And another function which can convolve\n",
    "def convolve(img, W):\n",
    "    # The W matrix is only 2D\n",
    "    # But conv2d will need a tensor which is 4d:\n",
    "    # height x width x n_input x n_output\n",
    "    if len(W.get_shape()) == 2:\n",
    "        dims = W.get_shape().as_list() + [1, 1]\n",
    "        W = tf.reshape(W, dims)\n",
    "\n",
    "    if len(img.get_shape()) == 2:\n",
    "        # num x height x width x channels\n",
    "        dims = [1] + img.get_shape().as_list() + [1]\n",
    "        img = tf.reshape(img, dims)\n",
    "    elif len(img.get_shape()) == 3:\n",
    "        dims = [1] + img.get_shape().as_list()\n",
    "        img = tf.reshape(img, dims)\n",
    "        # if the image is 3 channels, then our convolution\n",
    "        # kernel needs to be repeated for each input channel\n",
    "        W = tf.concat(2, [W, W, W])\n",
    "\n",
    "    # Stride is how many values to skip for the dimensions of\n",
    "    # num, height, width, channels\n",
    "    convolved = tf.nn.conv2d(img, W,\n",
    "                             strides=[1, 1, 1, 1], padding='SAME')\n",
    "    return convolved"
   ]
  },
  {
   "cell_type": "code",
   "execution_count": 28,
   "metadata": {
    "collapsed": true
   },
   "outputs": [
    {
     "name": "stdout",
     "output_type": "stream",
     "text": [
      "(512, 512, 3)\n"
     ]
    }
   ],
   "source": [
    "# %% Load up an image:\n",
    "from skimage import data\n",
    "img = data.astronaut()\n",
    "plt.imshow(img)\n",
    "print(img.shape)"
   ]
  },
  {
   "cell_type": "code",
   "execution_count": 29,
   "metadata": {
    "collapsed": true
   },
   "outputs": [],
   "source": [
    "# %% Now create a placeholder for our graph which can store any input:\n",
    "x = tf.placeholder(tf.float32, shape=img.shape)"
   ]
  },
  {
   "cell_type": "code",
   "execution_count": 30,
   "metadata": {
    "collapsed": true
   },
   "outputs": [],
   "source": [
    "# %% And a graph which can convolve our image with a gabor\n",
    "out = convolve(x, gabor())"
   ]
  },
  {
   "cell_type": "code",
   "execution_count": 31,
   "metadata": {
    "collapsed": true
   },
   "outputs": [
    {
     "data": {
      "text/plain": [
       "<matplotlib.image.AxesImage at 0x7f8b697e3cf8>"
      ]
     },
     "execution_count": 31,
     "metadata": {},
     "output_type": "execute_result"
    }
   ],
   "source": [
    "# %% Now send the image into the graph and compute the result\n",
    "result = tf.squeeze(out).eval(feed_dict={x: img})\n",
    "plt.imshow(result)"
   ]
  }
 ],
 "metadata": {
  "kernelspec": {
   "display_name": "Python [Root]",
   "language": "python",
   "name": "Python [Root]"
  },
  "language_info": {
   "codemirror_mode": {
    "name": "ipython",
    "version": 2.0
   },
   "file_extension": ".py",
   "mimetype": "text/x-python",
   "name": "python",
   "nbconvert_exporter": "python",
   "pygments_lexer": "ipython2",
   "version": "2.7.11"
  }
 },
 "nbformat": 4,
 "nbformat_minor": 0
}